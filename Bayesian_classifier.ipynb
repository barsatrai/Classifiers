{
  "nbformat": 4,
  "nbformat_minor": 0,
  "metadata": {
    "colab": {
      "provenance": [],
      "authorship_tag": "ABX9TyOf+PfWUJnavei02/bBPmIv",
      "include_colab_link": true
    },
    "kernelspec": {
      "name": "python3",
      "display_name": "Python 3"
    },
    "language_info": {
      "name": "python"
    }
  },
  "cells": [
    {
      "cell_type": "markdown",
      "metadata": {
        "id": "view-in-github",
        "colab_type": "text"
      },
      "source": [
        "<a href=\"https://colab.research.google.com/github/barsatrai/Classifiers/blob/main/Bayesian_classifier.ipynb\" target=\"_parent\"><img src=\"https://colab.research.google.com/assets/colab-badge.svg\" alt=\"Open In Colab\"/></a>"
      ]
    },
    {
      "cell_type": "code",
      "execution_count": null,
      "metadata": {
        "id": "PRs7f1ge5b0I",
        "colab": {
          "base_uri": "https://localhost:8080/"
        },
        "outputId": "6e5b7f2d-e7a0-413c-a492-4a4fb8e54e5a"
      },
      "outputs": [
        {
          "output_type": "stream",
          "name": "stdout",
          "text": [
            "    Outlook  temp  humidity  wind  play\n",
            "0         2     1         0     1     0\n",
            "1         2     1         0     0     0\n",
            "2         0     1         0     1     1\n",
            "3         1     2         0     1     1\n",
            "4         1     0         1     1     1\n",
            "5         1     0         1     0     0\n",
            "6         0     0         1     0     1\n",
            "7         2     2         0     1     0\n",
            "8         2     0         1     1     1\n",
            "9         1     2         1     1     1\n",
            "10        2     2         1     0     1\n",
            "11        0     2         0     0     1\n",
            "12        0     1         1     1     1\n",
            "13        1     2         0     0     0\n"
          ]
        }
      ],
      "source": [
        "import pandas as pd\n",
        "data= pd.read_csv(\"/content/drive/MyDrive/Colab Notebooks/playtennis.csv\")\n",
        "\n",
        "from sklearn import preprocessing\n",
        "encoder=preprocessing.LabelEncoder()\n",
        "\n",
        "data['Outlook'] = encoder.fit_transform(data['Outlook'])\n",
        "data['temp'] = encoder.fit_transform(data['temp'])\n",
        "data['humidity'] = encoder.fit_transform(data['humidity'])\n",
        "data['wind'] = encoder.fit_transform(data['wind'])\n",
        "data['play'] = encoder.fit_transform(data['play'])\n",
        "print(data)"
      ]
    },
    {
      "cell_type": "code",
      "source": [
        "import pandas as pd\n",
        "data = pd.read_csv(\"/content/drive/MyDrive/Colab Notebooks/playtennis.csv\")\n",
        "print(data)\n"
      ],
      "metadata": {
        "colab": {
          "base_uri": "https://localhost:8080/"
        },
        "id": "RzTp-OEH6Rph",
        "outputId": "f2e04144-af2e-400d-a9c7-88a2c6c6b1d1"
      },
      "execution_count": null,
      "outputs": [
        {
          "output_type": "stream",
          "name": "stdout",
          "text": [
            "     Outlook  temp humidity    wind play\n",
            "0      Sunny   Hot     High    Weak   No\n",
            "1      Sunny   Hot     High  Strong   No\n",
            "2   Overcast   Hot     High    Weak  Yes\n",
            "3       Rain  Mild     High    Weak  Yes\n",
            "4       Rain  Cool   Normal    Weak  Yes\n",
            "5       Rain  Cool   Normal  Strong   No\n",
            "6   Overcast  Cool   Normal  Strong  Yes\n",
            "7      Sunny  Mild     High    Weak   No\n",
            "8      Sunny  Cool   Normal    Weak  Yes\n",
            "9       Rain  Mild   Normal    Weak  Yes\n",
            "10     Sunny  Mild   Normal  Strong  Yes\n",
            "11  Overcast  Mild     High  Strong  Yes\n",
            "12  Overcast   Hot   Normal    Weak  Yes\n",
            "13      Rain  Mild     High  Strong   No\n"
          ]
        }
      ]
    },
    {
      "cell_type": "code",
      "source": [
        "from sklearn import preprocessing\n",
        "encoder = preprocessing.LabelEncoder()\n",
        "data['Outlook'] = encoder.fit_transform(data['Outlook'])\n",
        "data['temp'] = encoder.fit_transform(data['temp'])\n",
        "data['humidity'] = encoder.fit_transform(data['humidity'])\n",
        "data['wind'] = encoder.fit_transform(data['wind'])\n",
        "data['play'] = encoder.fit_transform(data['play'])\n",
        "print(data)"
      ],
      "metadata": {
        "colab": {
          "base_uri": "https://localhost:8080/"
        },
        "id": "9sn3hRHL6cK5",
        "outputId": "98db2182-4802-43ca-bc9b-83fc521589a8"
      },
      "execution_count": null,
      "outputs": [
        {
          "output_type": "stream",
          "name": "stdout",
          "text": [
            "    Outlook  temp  humidity  wind  play\n",
            "0         2     1         0     1     0\n",
            "1         2     1         0     0     0\n",
            "2         0     1         0     1     1\n",
            "3         1     2         0     1     1\n",
            "4         1     0         1     1     1\n",
            "5         1     0         1     0     0\n",
            "6         0     0         1     0     1\n",
            "7         2     2         0     1     0\n",
            "8         2     0         1     1     1\n",
            "9         1     2         1     1     1\n",
            "10        2     2         1     0     1\n",
            "11        0     2         0     0     1\n",
            "12        0     1         1     1     1\n",
            "13        1     2         0     0     0\n"
          ]
        }
      ]
    },
    {
      "cell_type": "code",
      "source": [
        "x_train = data.drop(columns = ['play'])\n",
        "print(x_train)\n",
        "#y_train = data.drop(columns=['Outlook', 'temp', 'humidity', 'wind'])\n",
        "y_train = data['play'].values\n",
        "print(y_train)"
      ],
      "metadata": {
        "colab": {
          "base_uri": "https://localhost:8080/"
        },
        "id": "BtSrMm426h7V",
        "outputId": "588d7d30-1621-4ed3-e6dd-79284ff1fbc7"
      },
      "execution_count": null,
      "outputs": [
        {
          "output_type": "stream",
          "name": "stdout",
          "text": [
            "    Outlook  temp  humidity  wind\n",
            "0         2     1         0     1\n",
            "1         2     1         0     0\n",
            "2         0     1         0     1\n",
            "3         1     2         0     1\n",
            "4         1     0         1     1\n",
            "5         1     0         1     0\n",
            "6         0     0         1     0\n",
            "7         2     2         0     1\n",
            "8         2     0         1     1\n",
            "9         1     2         1     1\n",
            "10        2     2         1     0\n",
            "11        0     2         0     0\n",
            "12        0     1         1     1\n",
            "13        1     2         0     0\n",
            "[0 0 1 1 1 0 1 0 1 1 1 1 1 0]\n"
          ]
        }
      ]
    },
    {
      "cell_type": "code",
      "source": [
        "\n",
        "from sklearn.naive_bayes import GaussianNB\n",
        "model = GaussianNB()\n",
        "model.fit(x_train, y_train)"
      ],
      "metadata": {
        "colab": {
          "base_uri": "https://localhost:8080/",
          "height": 74
        },
        "id": "ZfAqagnG6ocr",
        "outputId": "d4f7bbe4-2459-4d54-fbf6-76d91f517517"
      },
      "execution_count": null,
      "outputs": [
        {
          "output_type": "execute_result",
          "data": {
            "text/plain": [
              "GaussianNB()"
            ],
            "text/html": [
              "<style>#sk-container-id-1 {color: black;background-color: white;}#sk-container-id-1 pre{padding: 0;}#sk-container-id-1 div.sk-toggleable {background-color: white;}#sk-container-id-1 label.sk-toggleable__label {cursor: pointer;display: block;width: 100%;margin-bottom: 0;padding: 0.3em;box-sizing: border-box;text-align: center;}#sk-container-id-1 label.sk-toggleable__label-arrow:before {content: \"▸\";float: left;margin-right: 0.25em;color: #696969;}#sk-container-id-1 label.sk-toggleable__label-arrow:hover:before {color: black;}#sk-container-id-1 div.sk-estimator:hover label.sk-toggleable__label-arrow:before {color: black;}#sk-container-id-1 div.sk-toggleable__content {max-height: 0;max-width: 0;overflow: hidden;text-align: left;background-color: #f0f8ff;}#sk-container-id-1 div.sk-toggleable__content pre {margin: 0.2em;color: black;border-radius: 0.25em;background-color: #f0f8ff;}#sk-container-id-1 input.sk-toggleable__control:checked~div.sk-toggleable__content {max-height: 200px;max-width: 100%;overflow: auto;}#sk-container-id-1 input.sk-toggleable__control:checked~label.sk-toggleable__label-arrow:before {content: \"▾\";}#sk-container-id-1 div.sk-estimator input.sk-toggleable__control:checked~label.sk-toggleable__label {background-color: #d4ebff;}#sk-container-id-1 div.sk-label input.sk-toggleable__control:checked~label.sk-toggleable__label {background-color: #d4ebff;}#sk-container-id-1 input.sk-hidden--visually {border: 0;clip: rect(1px 1px 1px 1px);clip: rect(1px, 1px, 1px, 1px);height: 1px;margin: -1px;overflow: hidden;padding: 0;position: absolute;width: 1px;}#sk-container-id-1 div.sk-estimator {font-family: monospace;background-color: #f0f8ff;border: 1px dotted black;border-radius: 0.25em;box-sizing: border-box;margin-bottom: 0.5em;}#sk-container-id-1 div.sk-estimator:hover {background-color: #d4ebff;}#sk-container-id-1 div.sk-parallel-item::after {content: \"\";width: 100%;border-bottom: 1px solid gray;flex-grow: 1;}#sk-container-id-1 div.sk-label:hover label.sk-toggleable__label {background-color: #d4ebff;}#sk-container-id-1 div.sk-serial::before {content: \"\";position: absolute;border-left: 1px solid gray;box-sizing: border-box;top: 0;bottom: 0;left: 50%;z-index: 0;}#sk-container-id-1 div.sk-serial {display: flex;flex-direction: column;align-items: center;background-color: white;padding-right: 0.2em;padding-left: 0.2em;position: relative;}#sk-container-id-1 div.sk-item {position: relative;z-index: 1;}#sk-container-id-1 div.sk-parallel {display: flex;align-items: stretch;justify-content: center;background-color: white;position: relative;}#sk-container-id-1 div.sk-item::before, #sk-container-id-1 div.sk-parallel-item::before {content: \"\";position: absolute;border-left: 1px solid gray;box-sizing: border-box;top: 0;bottom: 0;left: 50%;z-index: -1;}#sk-container-id-1 div.sk-parallel-item {display: flex;flex-direction: column;z-index: 1;position: relative;background-color: white;}#sk-container-id-1 div.sk-parallel-item:first-child::after {align-self: flex-end;width: 50%;}#sk-container-id-1 div.sk-parallel-item:last-child::after {align-self: flex-start;width: 50%;}#sk-container-id-1 div.sk-parallel-item:only-child::after {width: 0;}#sk-container-id-1 div.sk-dashed-wrapped {border: 1px dashed gray;margin: 0 0.4em 0.5em 0.4em;box-sizing: border-box;padding-bottom: 0.4em;background-color: white;}#sk-container-id-1 div.sk-label label {font-family: monospace;font-weight: bold;display: inline-block;line-height: 1.2em;}#sk-container-id-1 div.sk-label-container {text-align: center;}#sk-container-id-1 div.sk-container {/* jupyter's `normalize.less` sets `[hidden] { display: none; }` but bootstrap.min.css set `[hidden] { display: none !important; }` so we also need the `!important` here to be able to override the default hidden behavior on the sphinx rendered scikit-learn.org. See: https://github.com/scikit-learn/scikit-learn/issues/21755 */display: inline-block !important;position: relative;}#sk-container-id-1 div.sk-text-repr-fallback {display: none;}</style><div id=\"sk-container-id-1\" class=\"sk-top-container\"><div class=\"sk-text-repr-fallback\"><pre>GaussianNB()</pre><b>In a Jupyter environment, please rerun this cell to show the HTML representation or trust the notebook. <br />On GitHub, the HTML representation is unable to render, please try loading this page with nbviewer.org.</b></div><div class=\"sk-container\" hidden><div class=\"sk-item\"><div class=\"sk-estimator sk-toggleable\"><input class=\"sk-toggleable__control sk-hidden--visually\" id=\"sk-estimator-id-1\" type=\"checkbox\" checked><label for=\"sk-estimator-id-1\" class=\"sk-toggleable__label sk-toggleable__label-arrow\">GaussianNB</label><div class=\"sk-toggleable__content\"><pre>GaussianNB()</pre></div></div></div></div></div>"
            ]
          },
          "metadata": {},
          "execution_count": 6
        }
      ]
    },
    {
      "cell_type": "code",
      "source": [
        "x_test = {'Outlook' : ['1'], 'temp' : ['0'], 'humidity': ['0'], 'wind': ['0'] }\n",
        "testdata = pd.DataFrame(x_test)\n",
        "result = model.predict(testdata)\n",
        "#print(result)\n",
        "if(result == 0):\n",
        "  print(\"Class label is play = NO\")\n",
        "else:\n",
        "  print(\"Class label is play = YES\")\n",
        "\n",
        "\n",
        "# from sklearn import tree\n",
        "# import matplotlib.pyplot as plt\n",
        "# plt.figure(figsize = (30,25))\n",
        "# tree.plot_tree(model)"
      ],
      "metadata": {
        "colab": {
          "base_uri": "https://localhost:8080/"
        },
        "id": "6y-NBCJ27kJs",
        "outputId": "b7352544-22b2-47bc-a8f0-2e6ffbc1eba2"
      },
      "execution_count": null,
      "outputs": [
        {
          "output_type": "stream",
          "name": "stdout",
          "text": [
            "Class label is play = NO\n"
          ]
        }
      ]
    }
  ]
}